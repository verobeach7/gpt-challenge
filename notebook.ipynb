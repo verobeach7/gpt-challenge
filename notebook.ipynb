{
 "cells": [
  {
   "cell_type": "code",
   "execution_count": 51,
   "metadata": {},
   "outputs": [],
   "source": [
    "from langchain.chat_models import ChatOpenAI\n",
    "from langchain.prompts import ChatPromptTemplate\n",
    "from langchain.callbacks import StreamingStdOutCallbackHandler\n",
    "from langchain.prompts.few_shot import FewShotChatMessagePromptTemplate\n",
    "\n",
    "chat = ChatOpenAI(\n",
    "    temperature=0.1,\n",
    "    model=\"gpt-3.5-turbo\",\n",
    "    streaming=True,\n",
    "    callbacks=[\n",
    "        StreamingStdOutCallbackHandler(),\n",
    "    ],\n",
    ")"
   ]
  },
  {
   "cell_type": "code",
   "execution_count": 55,
   "metadata": {},
   "outputs": [
    {
     "name": "stdout",
     "output_type": "stream",
     "text": [
      "\n",
      "    I Know this:\n",
      "    Movie Title: Inception\n",
      "    The director: Christopher Nolan\n",
      "    The main cast: Leonardo DiCaprio, Joseph Gordon-Levitt, Ellen Page, Tom Hardy\n",
      "    The budget: $160 million\n",
      "    The box office revenue: $829.9 million\n",
      "    The genre: Science Fiction, Action, Thriller\n",
      "    Synopsis: A skilled thief enters the dreams of others to steal secrets, but he is tasked with planting an idea in a target's subconscious in exchange for his freedom.\n",
      "    "
     ]
    },
    {
     "data": {
      "text/plain": [
       "AIMessageChunk(content=\"\\n    I Know this:\\n    Movie Title: Inception\\n    The director: Christopher Nolan\\n    The main cast: Leonardo DiCaprio, Joseph Gordon-Levitt, Ellen Page, Tom Hardy\\n    The budget: $160 million\\n    The box office revenue: $829.9 million\\n    The genre: Science Fiction, Action, Thriller\\n    Synopsis: A skilled thief enters the dreams of others to steal secrets, but he is tasked with planting an idea in a target's subconscious in exchange for his freedom.\\n    \")"
      ]
     },
     "execution_count": 55,
     "metadata": {},
     "output_type": "execute_result"
    }
   ],
   "source": [
    "examples = [\n",
    "    {\n",
    "        \"movie\": \"Titanic\",\n",
    "        \"answer\": \"\"\"\n",
    "    I Know this:\n",
    "    Movie Title: Titanic\n",
    "    The director: James Cameron\n",
    "    The main cast: Leonardo DiCaprio, Kate Winslet, Billy Zane, Kathy Bates\n",
    "    The budget: $200 million\n",
    "    The box office revenue: $2.26 billion\n",
    "    The genre: Romance, Drama\n",
    "    Synopsis: A young aristocrat falls in love with a kind but poor artist aboard the ill-fated RMS Titanic, leading to a tragic love story set against the backdrop of the famous maritime disaster.\n",
    "    \"\"\",\n",
    "    },\n",
    "    {\n",
    "        \"movie\": \"The Shawshank Redemption\",\n",
    "        \"answer\": \"\"\"\n",
    "    I Know this:\n",
    "    Movie Title: The Shawshank Redemption\n",
    "    The director: Frank Darabont\n",
    "    The main cast: Tim Robbins, Morgan Freeman, Bob Gunton, William Sadler\n",
    "    The budget: $25 million\n",
    "    The box office revenue: $58.3 million (initial release)\n",
    "    The genre: Drama\n",
    "    Synopsis: Wrongfully imprisoned, a banker forms an unlikely friendship with a fellow inmate and finds solace and hope through acts of common decency over decades of incarceration.\n",
    "    \"\"\",\n",
    "    },\n",
    "    {\n",
    "        \"movie\": \"The Dark Knight\",\n",
    "        \"answer\": \"\"\"\n",
    "    I Know this:\n",
    "    Movie Title: The Dark Knight\n",
    "    The director: Christopher Nolan\n",
    "    The main cast: Christian Bale, Heath Ledger, Aaron Eckhart, Michael Caine\n",
    "    The budget: $185 million\n",
    "    The box office revenue: $1.006 billion\n",
    "    The genre: Action, Crime, Drama\n",
    "    Synopsis: Batman faces his greatest psychological and physical challenges as he battles the Joker, a criminal mastermind intent on plunging Gotham into anarchy.\n",
    "    \"\"\",\n",
    "    },\n",
    "    {\n",
    "        \"movie\": \"Parasite\",\n",
    "        \"answer\": \"\"\"\n",
    "    I Know this:\n",
    "    Movie Title: Parasite\n",
    "    The director: Bong Joon-ho\n",
    "    The main cast: Song Kang-ho, Lee Sun-kyun, Cho Yeo-jeong, Choi Woo-shik, Park So-dam\n",
    "    The budget: $11.4 million\n",
    "    The box office revenue: $263.1 million\n",
    "    The genre: Drama, Thriller, Dark Comedy\n",
    "    Synopsis: A poor family infiltrates the lives of a wealthy household, leading to unexpected twists that expose the social and economic divide in modern society.\n",
    "    \"\"\",\n",
    "    },\n",
    "]\n",
    "\n",
    "example_prompt = ChatPromptTemplate.from_messages(\n",
    "    [\n",
    "        (\"human\", \"What do you know about {movie}\"),\n",
    "        (\"ai\", \"{answer}\"),\n",
    "    ]\n",
    ")\n",
    "\n",
    "example_prompt = FewShotChatMessagePromptTemplate(\n",
    "    example_prompt=example_prompt,\n",
    "    examples=examples,\n",
    ")\n",
    "\n",
    "final_prompt = ChatPromptTemplate.from_messages(\n",
    "    [\n",
    "        (\"system\", \"You are a movie expert.\"),\n",
    "        example_prompt,\n",
    "        (\"human\", \"What do you know about {movie}?\"),\n",
    "    ],\n",
    ")\n",
    "\n",
    "chain = final_prompt | chat\n",
    "\n",
    "chain.invoke(\n",
    "    {\"movie\": \"Inception\"},\n",
    ")"
   ]
  }
 ],
 "metadata": {
  "kernelspec": {
   "display_name": "env",
   "language": "python",
   "name": "python3"
  },
  "language_info": {
   "codemirror_mode": {
    "name": "ipython",
    "version": 3
   },
   "file_extension": ".py",
   "mimetype": "text/x-python",
   "name": "python",
   "nbconvert_exporter": "python",
   "pygments_lexer": "ipython3",
   "version": "3.11.7"
  }
 },
 "nbformat": 4,
 "nbformat_minor": 2
}
