{
 "cells": [
  {
   "cell_type": "code",
   "execution_count": 13,
   "metadata": {},
   "outputs": [],
   "source": [
    "from langchain.chat_models import ChatOpenAI\n",
    "from langchain.prompts import ChatPromptTemplate\n",
    "from langchain.callbacks import StreamingStdOutCallbackHandler\n",
    "\n",
    "chat = ChatOpenAI(\n",
    "    temperature=0.1,\n",
    "    streaming=True,\n",
    "    callbacks=[\n",
    "        StreamingStdOutCallbackHandler(),\n",
    "    ],\n",
    ")"
   ]
  },
  {
   "cell_type": "code",
   "execution_count": 18,
   "metadata": {},
   "outputs": [],
   "source": [
    "writer_prompt = ChatPromptTemplate.from_messages(\n",
    "    [\n",
    "        (\n",
    "            \"system\",\n",
    "            \"You are specialized in writing Haikus about programming languages. You write Haikus about programming languages.\",\n",
    "        ),\n",
    "        (\n",
    "            \"human\",\n",
    "            \"I want to get a Haiku for {programming_language}.\",\n",
    "        ),\n",
    "    ]\n",
    ")\n",
    "\n",
    "writer_chain = writer_prompt | chat"
   ]
  },
  {
   "cell_type": "code",
   "execution_count": 26,
   "metadata": {},
   "outputs": [
    {
     "name": "stdout",
     "output_type": "stream",
     "text": [
      "Virtual DOM,\n",
      "Components that render fast,\n",
      "React with joy and ease.\n",
      "\n",
      "Haikus are a form of Japanese poetry that consist of three lines with a 5-7-5 syllable pattern. This particular Haiku seems to be referencing React, a popular JavaScript library for building user interfaces. \n",
      "\n",
      "The first line, \"Virtual DOM,\" likely refers to React's use of a virtual representation of the actual Document Object Model (DOM) in the browser. This allows React to efficiently update the real DOM only when necessary, leading to improved performance.\n",
      "\n",
      "The second line, \"Components that render fast,\" highlights one of React's key features - the ability to create reusable components that can render quickly. This modularity and efficiency make React a popular choice for building complex web applications.\n",
      "\n",
      "The final line, \"React with joy and ease,\" suggests that the speaker finds pleasure and ease in using React. This could be a nod to React's declarative syntax, which can make it easier for developers to understand and maintain their code.\n",
      "\n",
      "Overall, this Haiku captures the essence of React as a powerful and efficient tool for building user interfaces, while also hinting at the enjoyment that can come from working with it."
     ]
    },
    {
     "data": {
      "text/plain": [
       "AIMessageChunk(content='\\n\\nHaikus are a form of Japanese poetry that consist of three lines with a 5-7-5 syllable pattern. This particular Haiku seems to be referencing React, a popular JavaScript library for building user interfaces. \\n\\nThe first line, \"Virtual DOM,\" likely refers to React\\'s use of a virtual representation of the actual Document Object Model (DOM) in the browser. This allows React to efficiently update the real DOM only when necessary, leading to improved performance.\\n\\nThe second line, \"Components that render fast,\" highlights one of React\\'s key features - the ability to create reusable components that can render quickly. This modularity and efficiency make React a popular choice for building complex web applications.\\n\\nThe final line, \"React with joy and ease,\" suggests that the speaker finds pleasure and ease in using React. This could be a nod to React\\'s declarative syntax, which can make it easier for developers to understand and maintain their code.\\n\\nOverall, this Haiku captures the essence of React as a powerful and efficient tool for building user interfaces, while also hinting at the enjoyment that can come from working with it.')"
      ]
     },
     "execution_count": 26,
     "metadata": {},
     "output_type": "execute_result"
    }
   ],
   "source": [
    "explainer_prompt = ChatPromptTemplate.from_messages(\n",
    "    [\n",
    "        (\n",
    "            \"system\",\n",
    "            \"You are a explainer. You are specialized in explaining Haikus. Add two blank lines, and then give a detailed explanation of the Haiku.\",\n",
    "        ),\n",
    "        (\n",
    "            \"human\",\n",
    "            \"{haiku}\",\n",
    "        ),\n",
    "    ]\n",
    ")\n",
    "\n",
    "explainer_chain = explainer_prompt | chat\n",
    "\n",
    "final_chain = {\"haiku\": writer_chain} | explainer_chain\n",
    "\n",
    "final_chain.invoke({\"programming_language\": \"React.JS\"})"
   ]
  }
 ],
 "metadata": {
  "kernelspec": {
   "display_name": "env",
   "language": "python",
   "name": "python3"
  },
  "language_info": {
   "codemirror_mode": {
    "name": "ipython",
    "version": 3
   },
   "file_extension": ".py",
   "mimetype": "text/x-python",
   "name": "python",
   "nbconvert_exporter": "python",
   "pygments_lexer": "ipython3",
   "version": "3.11.7"
  }
 },
 "nbformat": 4,
 "nbformat_minor": 2
}
